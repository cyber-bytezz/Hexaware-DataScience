{
  "cells": [
    {
      "cell_type": "markdown",
      "metadata": {
        "id": "ElCPnFQbSK9R"
      },
      "source": [
        "# Ex - GroupBy"
      ]
    },
    {
      "cell_type": "markdown",
      "metadata": {
        "id": "RztKcFDYSK9T"
      },
      "source": [
        "### Introduction:\n",
        "\n",
        "GroupBy can be summarizes as Split-Apply-Combine.\n",
        "\n",
        "Special thanks to: https://github.com/justmarkham for sharing the dataset and materials.\n",
        "\n",
        "Check out this [Diagram](http://i.imgur.com/yjNkiwL.png)  \n",
        "### Step 1. Import the necessary libraries"
      ]
    },
    {
      "cell_type": "code",
      "execution_count": null,
      "metadata": {
        "id": "FAGW2rpTSK9U"
      },
      "outputs": [],
      "source": [
        "import pandas as pd"
      ]
    },
    {
      "cell_type": "markdown",
      "metadata": {
        "id": "1c6C7i6eSK9V"
      },
      "source": [
        "### Step 2. Import the dataset from this [address](https://raw.githubusercontent.com/justmarkham/DAT8/master/data/drinks.csv)."
      ]
    },
    {
      "cell_type": "code",
      "source": [
        "url = \"https://raw.githubusercontent.com/justmarkham/pandas-videos/master/data/drinks.csv\"\n",
        "drinks = pd.read_csv(url)"
      ],
      "metadata": {
        "id": "Ue7oJUNsS4Fn"
      },
      "execution_count": null,
      "outputs": []
    },
    {
      "cell_type": "markdown",
      "metadata": {
        "id": "0FFdm56LSK9V"
      },
      "source": [
        "### Step 3. Assign it to a variable called drinks."
      ]
    },
    {
      "cell_type": "code",
      "source": [
        "print(drinks.head())  # Display first few rows to verify data\n"
      ],
      "metadata": {
        "colab": {
          "base_uri": "https://localhost:8080/"
        },
        "id": "NPnGmvxdTbYK",
        "outputId": "a7149a1f-7efc-4305-f24e-d8794290bc39"
      },
      "execution_count": null,
      "outputs": [
        {
          "output_type": "stream",
          "name": "stdout",
          "text": [
            "       country  beer_servings  spirit_servings  wine_servings  \\\n",
            "0  Afghanistan              0                0              0   \n",
            "1      Albania             89              132             54   \n",
            "2      Algeria             25                0             14   \n",
            "3      Andorra            245              138            312   \n",
            "4       Angola            217               57             45   \n",
            "\n",
            "   total_litres_of_pure_alcohol continent  \n",
            "0                           0.0      Asia  \n",
            "1                           4.9    Europe  \n",
            "2                           0.7    Africa  \n",
            "3                          12.4    Europe  \n",
            "4                           5.9    Africa  \n"
          ]
        }
      ]
    },
    {
      "cell_type": "markdown",
      "metadata": {
        "id": "7dq67WKDSK9W"
      },
      "source": [
        "### Step 4. Which continent drinks more beer on average?"
      ]
    },
    {
      "cell_type": "code",
      "execution_count": null,
      "metadata": {
        "colab": {
          "base_uri": "https://localhost:8080/"
        },
        "id": "ie_ccMNBSK9W",
        "outputId": "7ebabedf-20c6-4357-f320-6e1c11f43f09"
      },
      "outputs": [
        {
          "output_type": "stream",
          "name": "stdout",
          "text": [
            "Continent with highest average beer consumption: Europe\n"
          ]
        }
      ],
      "source": [
        "beer_avg = drinks.groupby(\"continent\")[\"beer_servings\"].mean().idxmax()\n",
        "print(f\"Continent with highest average beer consumption: {beer_avg}\")\n"
      ]
    },
    {
      "cell_type": "markdown",
      "metadata": {
        "id": "vMgZ0TmOSK9W"
      },
      "source": [
        "### Step 5. For each continent print the statistics for wine consumption."
      ]
    },
    {
      "cell_type": "code",
      "execution_count": null,
      "metadata": {
        "colab": {
          "base_uri": "https://localhost:8080/"
        },
        "id": "IsrxRDRkSK9W",
        "outputId": "c38512ad-8f91-4be0-d999-afd94ceff10a"
      },
      "outputs": [
        {
          "output_type": "stream",
          "name": "stdout",
          "text": [
            "               count        mean        std  min   25%    50%     75%    max\n",
            "continent                                                                   \n",
            "Africa          53.0   16.264151  38.846419  0.0   1.0    2.0   13.00  233.0\n",
            "Asia            44.0    9.068182  21.667034  0.0   0.0    1.0    8.00  123.0\n",
            "Europe          45.0  142.222222  97.421738  0.0  59.0  128.0  195.00  370.0\n",
            "North America   23.0   24.521739  28.266378  1.0   5.0   11.0   34.00  100.0\n",
            "Oceania         16.0   35.625000  64.555790  0.0   1.0    8.5   23.25  212.0\n",
            "South America   12.0   62.416667  88.620189  1.0   3.0   12.0   98.50  221.0\n"
          ]
        }
      ],
      "source": [
        "wine_stats = drinks.groupby(\"continent\")[\"wine_servings\"].describe()\n",
        "print(wine_stats)\n"
      ]
    },
    {
      "cell_type": "markdown",
      "metadata": {
        "id": "UAtMF4iHSK9X"
      },
      "source": [
        "### Step 6. Print the mean alcoohol consumption per continent for every column"
      ]
    },
    {
      "cell_type": "code",
      "execution_count": null,
      "metadata": {
        "colab": {
          "base_uri": "https://localhost:8080/"
        },
        "id": "-0T3FztzSK9X",
        "outputId": "c02817a0-b1ce-4ff2-8778-1dbd1d029f48"
      },
      "outputs": [
        {
          "output_type": "stream",
          "name": "stdout",
          "text": [
            "               beer_servings  spirit_servings  wine_servings  \\\n",
            "continent                                                      \n",
            "Africa             61.471698        16.339623      16.264151   \n",
            "Asia               37.045455        60.840909       9.068182   \n",
            "Europe            193.777778       132.555556     142.222222   \n",
            "North America     145.434783       165.739130      24.521739   \n",
            "Oceania            89.687500        58.437500      35.625000   \n",
            "South America     175.083333       114.750000      62.416667   \n",
            "\n",
            "               total_litres_of_pure_alcohol  \n",
            "continent                                    \n",
            "Africa                             3.007547  \n",
            "Asia                               2.170455  \n",
            "Europe                             8.617778  \n",
            "North America                      5.995652  \n",
            "Oceania                            3.381250  \n",
            "South America                      6.308333  \n"
          ]
        }
      ],
      "source": [
        "# Exclude non-numeric columns before applying mean()\n",
        "mean_alcohol = drinks.groupby(\"continent\").mean(numeric_only=True)\n",
        "print(mean_alcohol)\n"
      ]
    },
    {
      "cell_type": "markdown",
      "metadata": {
        "id": "PAgIC0ZySK9X"
      },
      "source": [
        "### Step 7. Print the median alcoohol consumption per continent for every column"
      ]
    },
    {
      "cell_type": "code",
      "execution_count": null,
      "metadata": {
        "colab": {
          "base_uri": "https://localhost:8080/"
        },
        "id": "HM_EwO9jSK9X",
        "outputId": "5cbf3598-c881-46cb-e2c5-40d0f35d25b5"
      },
      "outputs": [
        {
          "output_type": "stream",
          "name": "stdout",
          "text": [
            "               beer_servings  spirit_servings  wine_servings  \\\n",
            "continent                                                      \n",
            "Africa                  32.0              3.0            2.0   \n",
            "Asia                    17.5             16.0            1.0   \n",
            "Europe                 219.0            122.0          128.0   \n",
            "North America          143.0            137.0           11.0   \n",
            "Oceania                 52.5             37.0            8.5   \n",
            "South America          162.5            108.5           12.0   \n",
            "\n",
            "               total_litres_of_pure_alcohol  \n",
            "continent                                    \n",
            "Africa                                 2.30  \n",
            "Asia                                   1.20  \n",
            "Europe                                10.00  \n",
            "North America                          6.30  \n",
            "Oceania                                1.75  \n",
            "South America                          6.85  \n"
          ]
        }
      ],
      "source": [
        "# Compute the median alcohol consumption per continent, excluding non-numeric columns\n",
        "median_alcohol = drinks.groupby(\"continent\").median(numeric_only=True)\n",
        "print(median_alcohol)\n"
      ]
    },
    {
      "cell_type": "markdown",
      "metadata": {
        "id": "Aic-L3wMSK9X"
      },
      "source": [
        "### Step 8. Print the mean, min and max values for spirit consumption.\n",
        "#### This time output a DataFrame"
      ]
    },
    {
      "cell_type": "code",
      "execution_count": null,
      "metadata": {
        "colab": {
          "base_uri": "https://localhost:8080/"
        },
        "id": "aeeaAxmMSK9Y",
        "outputId": "102a1f2c-3071-41a1-f269-d23a6bb8df3f"
      },
      "outputs": [
        {
          "output_type": "stream",
          "name": "stdout",
          "text": [
            "                     mean  min  max\n",
            "continent                          \n",
            "Africa          16.339623    0  152\n",
            "Asia            60.840909    0  326\n",
            "Europe         132.555556    0  373\n",
            "North America  165.739130   68  438\n",
            "Oceania         58.437500    0  254\n",
            "South America  114.750000   25  302\n"
          ]
        }
      ],
      "source": [
        "spirit_stats = drinks.groupby(\"continent\")[\"spirit_servings\"].agg([\"mean\", \"min\", \"max\"])\n",
        "print(spirit_stats)\n"
      ]
    }
  ],
  "metadata": {
    "kernelspec": {
      "display_name": "Python 2",
      "language": "python",
      "name": "python2"
    },
    "language_info": {
      "codemirror_mode": {
        "name": "ipython",
        "version": 2
      },
      "file_extension": ".py",
      "mimetype": "text/x-python",
      "name": "python",
      "nbconvert_exporter": "python",
      "pygments_lexer": "ipython2",
      "version": "2.7.11"
    },
    "colab": {
      "provenance": []
    }
  },
  "nbformat": 4,
  "nbformat_minor": 0
}